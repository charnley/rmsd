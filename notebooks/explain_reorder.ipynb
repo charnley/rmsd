{
 "cells": [
  {
   "cell_type": "code",
   "execution_count": null,
   "id": "e13c0cca-4fe3-4f90-937b-c2d71058ba5c",
   "metadata": {},
   "outputs": [],
   "source": [
    "%load_ext autoreload\n",
    "%autoreload 2\n",
    "%matplotlib widget"
   ]
  },
  {
   "cell_type": "code",
   "execution_count": null,
   "id": "32a3c2b4-8017-4c23-9ffa-fd780baa970e",
   "metadata": {},
   "outputs": [],
   "source": [
    "from pathlib import Path\n",
    "import numpy as np\n",
    "import matplotlib.pyplot as plt\n",
    "import matplotlib.cm as cm\n",
    "from matplotlib.colors import Normalize"
   ]
  },
  {
   "cell_type": "code",
   "execution_count": null,
   "id": "3b3a945f-3583-4e9c-bdf4-645cb136976f",
   "metadata": {},
   "outputs": [],
   "source": [
    "from ipywidgets import interact"
   ]
  },
  {
   "cell_type": "code",
   "execution_count": null,
   "id": "6e7e05ad-9c2a-444d-97b0-6df08a958ed8",
   "metadata": {},
   "outputs": [],
   "source": [
    "import rmsd as rmsdlib"
   ]
  },
  {
   "cell_type": "code",
   "execution_count": null,
   "id": "8d24b792-ea7d-4611-ab3c-b64a1177815b",
   "metadata": {},
   "outputs": [],
   "source": []
  },
  {
   "cell_type": "code",
   "execution_count": null,
   "id": "006affbc-ad2f-4790-8fcd-65170baa89a4",
   "metadata": {},
   "outputs": [],
   "source": [
    "rmsdlib.__version__"
   ]
  },
  {
   "cell_type": "markdown",
   "id": "91de0f1c-b83e-463d-a93f-ce7911797129",
   "metadata": {},
   "source": [
    "# Directories"
   ]
  },
  {
   "cell_type": "code",
   "execution_count": null,
   "id": "f68343f7-caec-4c09-8a8f-1bccc003238b",
   "metadata": {},
   "outputs": [],
   "source": [
    "resources = Path(\"../tests/resources/\").resolve()"
   ]
  },
  {
   "cell_type": "markdown",
   "id": "1913230a-95d1-41e5-a4c5-fbfa01fa37c4",
   "metadata": {},
   "source": [
    "# Plot"
   ]
  },
  {
   "cell_type": "code",
   "execution_count": null,
   "id": "9dcdb348-9fea-4d6e-a279-07c6bacd72ba",
   "metadata": {},
   "outputs": [],
   "source": [
    "import plot_funcs\n",
    "import coord_funcs"
   ]
  },
  {
   "cell_type": "code",
   "execution_count": null,
   "id": "2640b051-96ec-4855-bc76-51d9eb63c28e",
   "metadata": {},
   "outputs": [],
   "source": [
    "plot_funcs.set_global_style()"
   ]
  },
  {
   "cell_type": "markdown",
   "id": "3cf67d24-ad0a-4130-a3cd-d3f8d79e59cd",
   "metadata": {},
   "source": [
    "# What"
   ]
  },
  {
   "cell_type": "code",
   "execution_count": null,
   "id": "4604178e-4887-47dc-a806-f4304cb33d55",
   "metadata": {},
   "outputs": [],
   "source": [
    "def rmsd1():\n",
    "\n",
    "    coord1 = [\n",
    "        [0,0,0],\n",
    "        [1,1,0],\n",
    "        [2,0,0],\n",
    "    ]\n",
    "    coord1 = np.array(coord1, dtype=float) / 1.2\n",
    "    coord2 = np.array(coord1, copy=True)\n",
    "    atoms1 = [6, 6, 6]\n",
    "\n",
    "    coord1 = coord_funcs.rotate_coord(-35, coord1)\n",
    "    coord2 = coord_funcs.rotate_coord(35, coord2)\n",
    "    coord2 /= 1.5\n",
    "    coord2[:,0] -= 1.5\n",
    "    coord1[:,0] += 0.4\n",
    "    \n",
    "    fig, ax = plot_funcs.get_plot()\n",
    "    plot_funcs.set_axis_default(ax)\n",
    "    plot_funcs.plot_molecule(ax, [\"\"]*3, coord1)\n",
    "    plot_funcs.plot_molecule(ax, [\"\"]*3, coord2, hatch=\"\\\\\\\\\\\\\")\n",
    "\n",
    "    print(rmsdlib.rmsd(coord1, coord2))\n",
    "\n",
    "    filename = \"fig_rmsd_nothing\"\n",
    "    fig.savefig(filename, bbox_inches=\"tight\")\n",
    "\n",
    "    ##\n",
    "    \n",
    "    fig, ax = plot_funcs.get_plot()\n",
    "\n",
    "    coord1 -= rmsdlib.centroid(coord1)\n",
    "    coord2 -= rmsdlib.centroid(coord2)\n",
    "    \n",
    "    plot_funcs.set_axis_default(ax)\n",
    "    plot_funcs.plot_molecule(ax, [\"\"]*3, coord1)\n",
    "    plot_funcs.plot_molecule(ax, [\"\"]*3, coord2, hatch=\"\\\\\\\\\\\\\")\n",
    "\n",
    "    print(rmsdlib.rmsd(coord1, coord2))\n",
    "    \n",
    "    filename = \"fig_rmsd_recentered\"\n",
    "    fig.savefig(filename, bbox_inches=\"tight\")\n",
    "\n",
    "    ##\n",
    "\n",
    "    fig, ax = plot_funcs.get_plot()\n",
    "\n",
    "    U = rmsdlib.kabsch(coord2, coord1)\n",
    "    coord2 = np.dot(coord2, U)\n",
    "    \n",
    "    plot_funcs.set_axis_default(ax)\n",
    "    plot_funcs.plot_molecule(ax, [\"\"]*3, coord1)\n",
    "    plot_funcs.plot_molecule(ax, [\"\"]*3, coord2, hatch=\"\\\\\\\\\\\\\")\n",
    "\n",
    "    print(rmsdlib.rmsd(coord1, coord2))\n",
    "    \n",
    "    filename = \"fig_rmsd_rotated\"\n",
    "    fig.savefig(filename, bbox_inches=\"tight\")\n",
    "\n",
    "rmsd1()"
   ]
  },
  {
   "cell_type": "markdown",
   "id": "4630b581-9f43-4f0d-9fd7-bb8912f659b1",
   "metadata": {},
   "source": [
    "# QML"
   ]
  },
  {
   "cell_type": "code",
   "execution_count": null,
   "id": "fb946f75-651f-4f68-a99c-a4c88979b991",
   "metadata": {},
   "outputs": [],
   "source": [
    "def qml_illustration():\n",
    "\n",
    "    coord = [\n",
    "        [0,0,0],\n",
    "        [1,1,0],\n",
    "        [2,0,0],\n",
    "    ]\n",
    "    coord = np.array(coord, dtype=float)\n",
    "    atoms = [6, 6, 6]\n",
    "\n",
    "    coord -= rmsdlib.get_cm(atoms, coord)\n",
    "    \n",
    "    fig, ax = plot_funcs.get_plot()\n",
    "    plot_funcs.set_axis_default(ax)\n",
    "    plot_funcs.plot_molecule(ax, [\"\"]*3, coord)\n",
    "    plot_funcs.plot_representation(ax, atoms, coord)\n",
    "\n",
    "    filename = \"fig_reorder_problem\"\n",
    "    fig.savefig(filename, bbox_inches=\"tight\")\n",
    "\n",
    "qml_illustration()"
   ]
  },
  {
   "cell_type": "markdown",
   "id": "faa92f45-9f5f-4f4e-9021-dd3e1c9d271a",
   "metadata": {},
   "source": [
    "# Reorder problem"
   ]
  },
  {
   "cell_type": "code",
   "execution_count": null,
   "id": "9d6ce450-e2f3-42ca-9904-bcfe6873d92d",
   "metadata": {},
   "outputs": [],
   "source": [
    "def reorder():\n",
    "\n",
    "    coord1 = [\n",
    "        [0,0,0],\n",
    "        [1,1,0],\n",
    "        [2,0,0],\n",
    "    ]\n",
    "    coord1 = np.array(coord1, dtype=float) / 1.2\n",
    "    coord1 -= rmsdlib.centroid(coord1)\n",
    "    coord2 = np.array(coord1, copy=True)\n",
    "    atoms1 = [6, 6, 6]\n",
    "\n",
    "    coord2 /= 1.5\n",
    "    coord2 -= rmsdlib.centroid(coord1)\n",
    "    coord2[:,1] -= 0.5\n",
    "    coord1[:,1] += 0.2\n",
    "    \n",
    "    fig, ax = plot_funcs.get_plot()\n",
    "    plot_funcs.set_axis_default(ax)\n",
    "    plot_funcs.plot_molecule(ax, [\"1\", \"2\", \"3\"], coord1)\n",
    "    plot_funcs.plot_molecule(ax, [\"2\", \"3\", \"1\"], coord2, hatch=\"\\\\\\\\\\\\\")\n",
    "\n",
    "    filename = \"fig_reorder_problem\"\n",
    "    fig.savefig(filename, bbox_inches=\"tight\")\n",
    "\n",
    "reorder()"
   ]
  },
  {
   "cell_type": "code",
   "execution_count": null,
   "id": "d29afeb2-d4d1-4508-b42b-8b57cc54188b",
   "metadata": {},
   "outputs": [],
   "source": []
  },
  {
   "cell_type": "code",
   "execution_count": null,
   "id": "f4383e95-c349-44c2-a710-e236646173e3",
   "metadata": {},
   "outputs": [],
   "source": []
  }
 ],
 "metadata": {
  "language_info": {
   "name": "python"
  }
 },
 "nbformat": 4,
 "nbformat_minor": 5
}
