{
 "cells": [
  {
   "cell_type": "code",
   "execution_count": null,
   "id": "e13c0cca-4fe3-4f90-937b-c2d71058ba5c",
   "metadata": {},
   "outputs": [],
   "source": [
    "%load_ext autoreload\n",
    "%autoreload 2\n",
    "%matplotlib widget"
   ]
  },
  {
   "cell_type": "code",
   "execution_count": null,
   "id": "32a3c2b4-8017-4c23-9ffa-fd780baa970e",
   "metadata": {},
   "outputs": [],
   "source": [
    "from pathlib import Path\n",
    "import numpy as np\n",
    "import matplotlib.pyplot as plt\n",
    "import matplotlib.cm as cm\n",
    "from matplotlib.colors import Normalize"
   ]
  },
  {
   "cell_type": "code",
   "execution_count": null,
   "id": "3b3a945f-3583-4e9c-bdf4-645cb136976f",
   "metadata": {},
   "outputs": [],
   "source": [
    "from ipywidgets import interact"
   ]
  },
  {
   "cell_type": "code",
   "execution_count": null,
   "id": "6e7e05ad-9c2a-444d-97b0-6df08a958ed8",
   "metadata": {},
   "outputs": [],
   "source": [
    "import rmsd as rmsdlib"
   ]
  },
  {
   "cell_type": "code",
   "execution_count": null,
   "id": "006affbc-ad2f-4790-8fcd-65170baa89a4",
   "metadata": {},
   "outputs": [],
   "source": [
    "rmsdlib.__version__"
   ]
  },
  {
   "cell_type": "markdown",
   "id": "91de0f1c-b83e-463d-a93f-ce7911797129",
   "metadata": {},
   "source": [
    "# Directories"
   ]
  },
  {
   "cell_type": "code",
   "execution_count": null,
   "id": "f68343f7-caec-4c09-8a8f-1bccc003238b",
   "metadata": {},
   "outputs": [],
   "source": [
    "resources = Path(\"../tests/resources/\").resolve()"
   ]
  },
  {
   "cell_type": "markdown",
   "id": "1913230a-95d1-41e5-a4c5-fbfa01fa37c4",
   "metadata": {},
   "source": [
    "# Plot"
   ]
  },
  {
   "cell_type": "code",
   "execution_count": null,
   "id": "9dcdb348-9fea-4d6e-a279-07c6bacd72ba",
   "metadata": {},
   "outputs": [],
   "source": [
    "import plot_funcs\n",
    "import coord_funcs"
   ]
  },
  {
   "cell_type": "markdown",
   "id": "3cf67d24-ad0a-4130-a3cd-d3f8d79e59cd",
   "metadata": {},
   "source": [
    "# Read file"
   ]
  },
  {
   "cell_type": "code",
   "execution_count": null,
   "id": "a466ef3f-135c-45f7-9b5a-7750e6f570da",
   "metadata": {},
   "outputs": [],
   "source": [
    "# https://pubchem.ncbi.nlm.nih.gov/compound/15634633#section=Other-Identifiers\n",
    "filename_a = resources / \"examples\" / \"NS00006345.xyz\"\n",
    "filename_a = resources / \"examples\" / \"CHEMBL135626.xyz\"\n",
    "filename_a = resources / \"examples\" / \"test.xyz\""
   ]
  },
  {
   "cell_type": "code",
   "execution_count": null,
   "id": "3198e29d-affd-44fa-b1c3-016782c4444f",
   "metadata": {},
   "outputs": [],
   "source": [
    "atoms_a, coord_a = rmsdlib.get_coordinates_xyz(filename_a, return_atoms_as_int=True)\n",
    "\n",
    "# Ignore Hydrogens\n",
    "view_hydrogens, = np.where(atoms_a != 1)\n",
    "\n",
    "atoms_a = atoms_a[view_hydrogens]\n",
    "coord_a = coord_a[view_hydrogens]\n",
    "coord_a -= rmsdlib.get_cm(atoms_a, coord_a)\n",
    "\n",
    "# Just change the molecule a little bit. Alchemically change Carbon to Nitrogen\n",
    "atoms_a[1] = 7 "
   ]
  },
  {
   "cell_type": "code",
   "execution_count": null,
   "id": "6818162f-47af-49d1-a8ba-1e7e5d194eaf",
   "metadata": {},
   "outputs": [],
   "source": [
    "fig_width = np.max([np.max(coord_a), -np.min(coord_a)]) * 1.2\n",
    "fig_width = 3.0"
   ]
  },
  {
   "cell_type": "code",
   "execution_count": null,
   "id": "86a62589-db6a-47ea-a733-07da0ed5abf6",
   "metadata": {},
   "outputs": [],
   "source": [
    "fig, ax = plot_funcs.get_plot()\n",
    "\n",
    "print(fig_width)\n",
    "\n",
    "plot_funcs.plot_coord(ax, atoms_a, coord_a)\n",
    "\n",
    "ax.set_xlim(-fig_width, fig_width)\n",
    "ax.set_ylim(-fig_width, fig_width)\n",
    "pass"
   ]
  },
  {
   "cell_type": "code",
   "execution_count": null,
   "id": "95f049ab-e9ae-4e73-b91c-92f86895abe0",
   "metadata": {},
   "outputs": [],
   "source": [
    "def plot_eig(ax_, atoms_, coord_, recenter=True):\n",
    "\n",
    "    if recenter:\n",
    "        coord_ -= rmsdlib.get_cm(atoms_, coord_)\n",
    "        \n",
    "    center = rmsdlib.get_cm(atoms_, coord_) # Should be zero\n",
    "\n",
    "    inertia_ = rmsdlib.get_inertia_tensor(atoms_, coord_)\n",
    "    eigval_, eigvec_ = np.linalg.eig(inertia_)\n",
    "    eigvec_ = eigvec_.T\n",
    "    eigvec_ = eigvec_[np.argsort(eigval_)]\n",
    "    \n",
    "    plot_funcs.plot_coord(ax_, atoms_, coord_, show_hydrogens=False)\n",
    "    plot_funcs.do_dot(ax_, center[0], center[1], size=4)\n",
    "    ax_.arrow(center[0], center[1], center[0] + eigvec_[0][0], center[1] + eigvec_[0][1], color=\"red\")\n",
    "    ax_.arrow(center[0], center[1], center[0] + eigvec_[1][0], center[1] + eigvec_[1][1], color=\"blue\")\n",
    "    return"
   ]
  },
  {
   "cell_type": "code",
   "execution_count": null,
   "id": "4b9080c7-6aba-4b0b-b6f4-3f69c18d82ae",
   "metadata": {},
   "outputs": [],
   "source": [
    "def box68(atoms_a, coord_a):\n",
    "    \n",
    "    fig, axs = plot_funcs.get_plot(4, size=4)\n",
    "    ax1, ax2, ax3, ax4 = axs\n",
    "\n",
    "    ax1.set_xlim(-fig_width, fig_width)\n",
    "    ax1.set_ylim(-fig_width, fig_width)\n",
    "    ax1.grid(color='grey', linestyle='-', linewidth=0.5)\n",
    "    ax2.grid(color='grey', linestyle='-', linewidth=0.5)\n",
    "    ax3.grid(color='grey', linestyle='-', linewidth=0.5)\n",
    "    ax4.grid(color='grey', linestyle='-', linewidth=0.5)\n",
    "\n",
    "    print(\"A:\")\n",
    "    coord_a -= rmsdlib.get_cm(atoms_a, coord_a)\n",
    "    plot_eig(ax1, atoms_a, coord_a)\n",
    "\n",
    "    print(\"B:\")\n",
    "    U = coord_funcs.rotation_matrix(5)\n",
    "    _xy = np.dot(coord_a[:,:2], U)\n",
    "    coord_b = coord_a.copy() # copy?\n",
    "    coord_b[:,:2] = _xy\n",
    "    \n",
    "    coord_b -= rmsdlib.get_cm(atoms_a, coord_b)\n",
    "    plot_eig(ax2, atoms_a, coord_b)\n",
    "\n",
    "    inertia_b = rmsdlib.get_inertia_tensor(atoms_a, coord_b)\n",
    "    eigval_b, eigvec_b = np.linalg.eig(inertia_b)\n",
    "    \n",
    "    #eigvec_b = eigvec_b.T\n",
    "    #eigvec_b = eigvec_b[np.argsort(eigval_b)]\n",
    "\n",
    "    # TODO Mirror molecule?\n",
    "\n",
    "    print(\"C:\")\n",
    "    print(\"det:\", np.linalg.det(eigvec_b))\n",
    "    \n",
    "    #if np.linalg.det(eigvec_b) < 0:\n",
    "    #    eigvec_b[1,:] = -eigvec_b[1,:]\n",
    "    \n",
    "    coord_c = np.dot(coord_b, eigvec_b)\n",
    "\n",
    "    plot_eig(ax3, atoms_a, coord_c)\n",
    "\n",
    "    return\n",
    "\n",
    "    \n",
    "\n",
    "    print(\"D:\")\n",
    "\n",
    "\n",
    "    \n",
    "    \n",
    "box68(atoms_a, coord_a)"
   ]
  },
  {
   "cell_type": "code",
   "execution_count": null,
   "id": "e7a7ae5f-17a4-4745-963f-63772658f918",
   "metadata": {},
   "outputs": [],
   "source": []
  },
  {
   "cell_type": "code",
   "execution_count": null,
   "id": "fd680bfc-75df-4dee-85c3-c1bc7cbb4f7f",
   "metadata": {},
   "outputs": [],
   "source": [
    "\n",
    "def _box15():\n",
    "    x = np.linspace(-10, 10,100)\n",
    "    \n",
    "    def f(x, A, B, C):\n",
    "        return A*x**2 + B*x + C\n",
    "    \n",
    "    fig = plt.figure()\n",
    "    ax = fig.add_subplot(1, 1, 1)\n",
    "    line, = ax.plot(x, f(x, A=1, B=1, C=1))\n",
    "    \n",
    "    def update(A = 1, B = 0, C = 0):\n",
    "        line.set_ydata(f(x,A,B,C))\n",
    "        fig.canvas.draw_idle()\n",
    "    \n",
    "    interact(update, A = (-4,4,0.1), B = (-4,4,0.1), C = (-4,4,0.1));\n",
    "_box15()"
   ]
  },
  {
   "cell_type": "code",
   "execution_count": null,
   "id": "8f8bd816-42d0-4c1b-9cd2-4d5195b704e9",
   "metadata": {},
   "outputs": [],
   "source": [
    "\n",
    "def bend_coord(angle, coord):\n",
    "    U = coord_funcs.rotation_matrix(angle)\n",
    "    _xy = np.dot(coord[:,:2], U)\n",
    "    _coord = coord.copy() # copy?\n",
    "    _coord[:,:2] = _xy\n",
    "    return _coord\n",
    "\n",
    "def find_correct(atoms, coord):\n",
    "\n",
    "    coord = coord.copy()\n",
    "    coord -= rmsdlib.get_cm(atoms, coord)\n",
    "\n",
    "    inertia_ = rmsdlib.get_inertia_tensor(atoms, coord)\n",
    "    eigval_, eigvec_ = np.linalg.eig(inertia_)\n",
    "\n",
    "    print(eigval_)\n",
    "    \n",
    "    eigvec_ = eigvec_.T\n",
    "    eigvec_ = eigvec_[np.argsort(eigval_)]\n",
    "    eigvec_ = eigvec_.T\n",
    "\n",
    "    #if np.linalg.det(eigvec_b) > 0:\n",
    "    #    eigvec_b[1,:] = -eigvec_b[1,:]\n",
    "\n",
    "    #eigvec_[0,:] = -eigvec_[0,:]\n",
    "    #eigvec_[1,:] = -eigvec_[1,:]\n",
    "\n",
    "    eigvec_ = -eigvec_\n",
    "\n",
    "    if np.linalg.det(eigvec_) > 0.0:\n",
    "            eigvec_ = -eigvec_\n",
    "\n",
    "    \n",
    "    print(\"Det\", np.linalg.det(eigvec_))\n",
    "    \n",
    "    coord = np.dot(coord, eigvec_)\n",
    "\n",
    "    return coord\n",
    "\n",
    "\n",
    "def scan_angles():\n",
    "\n",
    "    n_rows = 3\n",
    "    size = 5\n",
    "\n",
    "    fig = plt.figure(figsize=(size* n_rows, size ))\n",
    "    \n",
    "    def update(angle):\n",
    "        coord_ = bend_coord(angle, coord_a)\n",
    "        coord_ -= rmsdlib.get_cm(atoms_a, coord_)\n",
    "\n",
    "        coord_c = find_correct(atoms_a, coord_)\n",
    "        \n",
    "        ax1 = fig.add_subplot(1, 3, 1)\n",
    "        ax2 = fig.add_subplot(1, 3, 2, sharex=ax1, sharey=ax1)\n",
    "        ax3 = fig.add_subplot(1, 3, 3, sharex=ax1, sharey=ax1)\n",
    "        \n",
    "        ax1.set_xlim(-fig_width, fig_width)\n",
    "        ax1.set_ylim(-fig_width, fig_width)\n",
    "        \n",
    "        plot_eig(ax1, atoms_a, coord_a)\n",
    "        plot_eig(ax2, atoms_a, coord_)\n",
    "        plot_eig(ax3, atoms_a, coord_c)\n",
    "        \n",
    "        fig.canvas.draw_idle()\n",
    "    \n",
    "    interact(update,angle=(-180, 180, 5));\n",
    "\n",
    "scan_angles()"
   ]
  },
  {
   "cell_type": "code",
   "execution_count": null,
   "id": "bb6a649d-9005-46cd-8fd3-9ebf9a958d0e",
   "metadata": {},
   "outputs": [],
   "source": []
  },
  {
   "cell_type": "code",
   "execution_count": null,
   "id": "93b262a6-1bcd-4a0d-9e94-0cc2ba6d319b",
   "metadata": {},
   "outputs": [],
   "source": []
  },
  {
   "cell_type": "code",
   "execution_count": null,
   "id": "61037128-f026-4119-9a4d-835ede3a7de0",
   "metadata": {},
   "outputs": [],
   "source": []
  },
  {
   "cell_type": "code",
   "execution_count": null,
   "id": "4604178e-4887-47dc-a806-f4304cb33d55",
   "metadata": {},
   "outputs": [],
   "source": []
  },
  {
   "cell_type": "code",
   "execution_count": null,
   "id": "fa67ea87-e80b-47bc-8c25-9fd71b7894f6",
   "metadata": {},
   "outputs": [],
   "source": []
  },
  {
   "cell_type": "code",
   "execution_count": null,
   "id": "2640b051-96ec-4855-bc76-51d9eb63c28e",
   "metadata": {},
   "outputs": [],
   "source": []
  },
  {
   "cell_type": "code",
   "execution_count": null,
   "id": "58df39a0-a745-479d-bbf0-9b2762254226",
   "metadata": {},
   "outputs": [],
   "source": [
    "# Plot rotation\n",
    "fig, ax = plot_funcs.get_plot()\n",
    "\n",
    "centroid = np.asarray([0, 0])\n",
    "radius = 1.0\n",
    "\n",
    "p1 = np.array(centroid)\n",
    "p1[0] += radius\n",
    "p1[1] += radius\n",
    "\n",
    "degrees = 80\n",
    "step_size = 5\n",
    "n_steps = int(degrees / step_size)\n",
    "\n",
    "p2 = p1\n",
    "for d in range(n_steps):\n",
    "    U = coord_funcs.rotation_matrix(step_size)\n",
    "    p3 = np.dot(p2, U)\n",
    "    plot_funcs.do_arrow(ax, p2, p3, rad=.01)\n",
    "    p2 = p3\n",
    "\n",
    "plot_funcs.do_dot(ax, *centroid)\n",
    "plot_funcs.do_dot(ax, *p1)\n",
    "plot_funcs.do_dot(ax, *p2)\n",
    "\n",
    "ax.set_xlim(-1.5, 1.5)\n",
    "ax.set_ylim(-1.5, 1.5)\n",
    "\n",
    "pass"
   ]
  },
  {
   "cell_type": "code",
   "execution_count": null,
   "id": "fb946f75-651f-4f68-a99c-a4c88979b991",
   "metadata": {},
   "outputs": [],
   "source": []
  },
  {
   "cell_type": "code",
   "execution_count": null,
   "id": "5dd766c5-c6bc-403d-8cb7-6b71934f2eae",
   "metadata": {},
   "outputs": [],
   "source": []
  },
  {
   "cell_type": "code",
   "execution_count": null,
   "id": "7c524fc2-e462-4d39-8adf-6d033a86a1fd",
   "metadata": {},
   "outputs": [],
   "source": []
  },
  {
   "cell_type": "code",
   "execution_count": null,
   "id": "9d6ce450-e2f3-42ca-9904-bcfe6873d92d",
   "metadata": {},
   "outputs": [],
   "source": [
    "fig, axs = plot_funcs.get_plot(1)\n",
    "ax1 = axs\n",
    "\n",
    "# Coord A\n",
    "centroid_a = rmsdlib.centroid(coord_a)\n",
    "coord_a -= centroid_a\n",
    "inertia_a = rmsdlib.get_inertia_tensor(atoms_a, coord_a)\n",
    "centroid_a = rmsdlib.centroid(coord_a)\n",
    "eigval_a, eigvec_a = np.linalg.eig(inertia_a)\n",
    "eigvec_a = eigvec_a[np.argsort(eigval_a)]\n",
    "\n",
    "\n",
    "coord_b = np.array(coord_a)\n",
    "\n",
    "# Create coord B\n",
    "total = 5\n",
    "cmap1 = cm.autumn\n",
    "cmap2 = cm.cool\n",
    "norm = Normalize(vmin=1, vmax=total*2)\n",
    "for i in range(1, total+1):\n",
    "\n",
    "    U = coord_funcs.rotation_matrix(20)\n",
    "    _xy = np.dot(coord_b[:,:2], U)\n",
    "    coord_b = np.array(coord_b)\n",
    "    coord_b[:,:2] = _xy\n",
    "    coord_b += 5\n",
    "    \n",
    "    centroid_b = rmsdlib.centroid(coord_b)\n",
    "    coord_b -= centroid_b\n",
    "    centroid_b = rmsdlib.centroid(coord_b)\n",
    "    inertia_b = rmsdlib.get_inertia_tensor(atoms_a, coord_b)\n",
    "    eigval_b, eigvec_b = np.linalg.eig(inertia_b)\n",
    "    eigvec_b = eigvec_b[np.argsort(eigval_b)]\n",
    "\n",
    "    #plot_funcs.plot_coord(ax2, atoms_a, coord_b, show_hydrogens=False)\n",
    "    #plot_funcs.do_dot(ax2, centroid_b[0], centroid_b[1], size=4)\n",
    "    plot_funcs.do_arrow(ax1, centroid_b, eigvec_b[0], rad=.01, color=cmap1(norm(i)))\n",
    "    plot_funcs.do_arrow(ax1, centroid_b, eigvec_b[1], rad=.01, color=cmap2(norm(i)))\n",
    "\n",
    "    #plot_funcs.do_dot(ax2, centroid_b[0], centroid_b[1], size=4)\n",
    "\n",
    "\n",
    "ax1.set_xlim(-fig_width, fig_width)\n",
    "ax1.set_ylim(-fig_width, fig_width)\n",
    "\n",
    "pass"
   ]
  },
  {
   "cell_type": "code",
   "execution_count": null,
   "id": "d29afeb2-d4d1-4508-b42b-8b57cc54188b",
   "metadata": {},
   "outputs": [],
   "source": []
  },
  {
   "cell_type": "code",
   "execution_count": null,
   "id": "f4383e95-c349-44c2-a710-e236646173e3",
   "metadata": {},
   "outputs": [],
   "source": []
  }
 ],
 "metadata": {
  "language_info": {
   "name": "python"
  }
 },
 "nbformat": 4,
 "nbformat_minor": 5
}
